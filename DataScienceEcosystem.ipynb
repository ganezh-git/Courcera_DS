{
 "cells": [
  {
   "cell_type": "markdown",
   "id": "3054620a-5b99-49cc-8d5d-1bca1fe20a57",
   "metadata": {},
   "source": [
    "# Data Science Tools and Ecosystem"
   ]
  },
  {
   "cell_type": "markdown",
   "id": "dba1d091-7c80-4bd5-b41a-195dcfa47814",
   "metadata": {},
   "source": [
    "In this notebook, Data Science Tools and Ecosystem are summarized."
   ]
  },
  {
   "cell_type": "markdown",
   "id": "d6175eff-3fa8-47e8-a309-61348c89fa77",
   "metadata": {},
   "source": [
    "Some of the popular languages that Data Scientists use are:\n",
    "\n",
    "1. Python\n",
    "2. R\n",
    "3. SQL"
   ]
  },
  {
   "cell_type": "markdown",
   "id": "2fe85881-c70b-44e2-85e8-bd990cbbce01",
   "metadata": {},
   "source": [
    "Some of the commonly used libraries used by Data Scientists include:\n",
    "\n",
    "1. NumPy\n",
    "2. Pandas\n",
    "3. Matplotlib"
   ]
  },
  {
   "cell_type": "markdown",
   "id": "161d4418-95ec-494f-87d3-8160911c2faf",
   "metadata": {
    "tags": []
   },
   "source": [
    "Data Science Tools\n",
    "\n",
    "| Data Science Tools |\n",
    "|--------------------|\n",
    "| Jupyter Notebook   |\n",
    "| RStudio            |\n",
    "| VS Code            |\n"
   ]
  },
  {
   "cell_type": "markdown",
   "id": "f824779b-28ac-409a-bde2-2a4d2ebea3ce",
   "metadata": {},
   "source": [
    "### Below are a few examples of evaluating arithmetic expressions in Python.\n",
    "\n",
    "addition, subtraction, multiplication, and division\n"
   ]
  },
  {
   "cell_type": "code",
   "execution_count": 11,
   "id": "6a560b52-0275-483e-bb3f-f7fa4eb2ea77",
   "metadata": {
    "tags": []
   },
   "outputs": [
    {
     "data": {
      "text/plain": [
       "17"
      ]
     },
     "execution_count": 11,
     "metadata": {},
     "output_type": "execute_result"
    }
   ],
   "source": [
    "# This is a simple arithmetic expression to multiply then add integers.\n",
    "result = (3 * 4) + 5\n",
    "result"
   ]
  },
  {
   "cell_type": "code",
   "execution_count": 12,
   "id": "3080e361-7e31-4807-a81b-78103ecf3e26",
   "metadata": {
    "tags": []
   },
   "outputs": [
    {
     "data": {
      "text/plain": [
       "3.3333333333333335"
      ]
     },
     "execution_count": 12,
     "metadata": {},
     "output_type": "execute_result"
    }
   ],
   "source": [
    "# This will convert 200 minutes to hours by dividing by 60.\n",
    "minutes = 200\n",
    "hours = minutes / 60\n",
    "hours\n"
   ]
  },
  {
   "cell_type": "markdown",
   "id": "9400fcc8-9669-4052-9057-327dd190bb38",
   "metadata": {},
   "source": [
    "**Objectives:**\n",
    "\n",
    "- List popular languages for Data Science.\n",
    "- Introduce commonly used libraries for Data Science.\n",
    "- Explore open source tools used in Data Science.\n",
    "- Demonstrate arithmetic expression examples in Python.\n",
    "- Convert minutes to hours using Python expressions."
   ]
  },
  {
   "cell_type": "markdown",
   "id": "95c613a1-2b67-4241-a81f-fb3733f7964e",
   "metadata": {},
   "source": [
    "## Author\n",
    "\n",
    "Ganesh R"
   ]
  },
  {
   "cell_type": "code",
   "execution_count": null,
   "id": "af0972be-17eb-4d2f-995c-159cbdc73eb2",
   "metadata": {},
   "outputs": [],
   "source": []
  }
 ],
 "metadata": {
  "kernelspec": {
   "display_name": "Python 3 (ipykernel)",
   "language": "python",
   "name": "python3"
  },
  "language_info": {
   "codemirror_mode": {
    "name": "ipython",
    "version": 3
   },
   "file_extension": ".py",
   "mimetype": "text/x-python",
   "name": "python",
   "nbconvert_exporter": "python",
   "pygments_lexer": "ipython3",
   "version": "3.11.3"
  }
 },
 "nbformat": 4,
 "nbformat_minor": 5
}
