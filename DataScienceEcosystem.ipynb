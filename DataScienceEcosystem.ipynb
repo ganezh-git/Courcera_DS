{
 "cells": [
  {
   "cell_type": "code",
   "execution_count": 6,
   "id": "2677544e-55a8-4225-b03e-03b5a9e197d9",
   "metadata": {
    "tags": []
   },
   "outputs": [],
   "source": [
    "#Data Science Tools and Ecosystem"
   ]
  },
  {
   "cell_type": "code",
   "execution_count": null,
   "id": "53c5cddd-841f-4ccb-b7bd-755ce9a443c2",
   "metadata": {},
   "outputs": [],
   "source": []
  }
 ],
 "metadata": {
  "kernelspec": {
   "display_name": "Python 3 (ipykernel)",
   "language": "python",
   "name": "python3"
  },
  "language_info": {
   "codemirror_mode": {
    "name": "ipython",
    "version": 3
   },
   "file_extension": ".py",
   "mimetype": "text/x-python",
   "name": "python",
   "nbconvert_exporter": "python",
   "pygments_lexer": "ipython3",
   "version": "3.11.3"
  }
 },
 "nbformat": 4,
 "nbformat_minor": 5
}
